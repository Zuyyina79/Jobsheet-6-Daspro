{
  "nbformat": 4,
  "nbformat_minor": 0,
  "metadata": {
    "colab": {
      "name": "GROUP BY.ipynb",
      "provenance": [],
      "authorship_tag": "ABX9TyM2yaG1HwGV7LQa4kd/ZxGA",
      "include_colab_link": true
    },
    "kernelspec": {
      "name": "python3",
      "display_name": "Python 3"
    }
  },
  "cells": [
    {
      "cell_type": "markdown",
      "metadata": {
        "id": "view-in-github",
        "colab_type": "text"
      },
      "source": [
        "<a href=\"https://colab.research.google.com/github/Zuyyina79/Jobsheet-6-Daspro/blob/main/GROUP_BY.ipynb\" target=\"_parent\"><img src=\"https://colab.research.google.com/assets/colab-badge.svg\" alt=\"Open In Colab\"/></a>"
      ]
    },
    {
      "cell_type": "code",
      "metadata": {
        "colab": {
          "base_uri": "https://localhost:8080/"
        },
        "id": "epWDYKJWTLhT",
        "outputId": "0f398de2-d354-441a-dc7b-a92492e01e89"
      },
      "source": [
        "# import the pandas library\n",
        "import pandas as pd\n",
        "\n",
        "ipl_data = {'Team': ['Riders', 'Riders', 'Devils', 'Devils', 'Kings',\n",
        "   'kings', 'Kings', 'Kings', 'Riders', 'Royals', 'Royals', 'Riders'],\n",
        "   'Rank': [1, 2, 2, 3, 3, 4 ,1, 1, 2, 4, 1, 2],\n",
        "   'Year': [2014,2015,2014,2015,2014,2015,2016,2017,2016,2014,2015,2017],\n",
        "   'Points':[876,789,863,673,741,812,756,788,694,701,804,690]}\n",
        "df = pd.DataFrame(ipl_data)\n",
        "\n",
        "print (df)"
      ],
      "execution_count": 13,
      "outputs": [
        {
          "output_type": "stream",
          "text": [
            "      Team  Rank  Year  Points\n",
            "0   Riders     1  2014     876\n",
            "1   Riders     2  2015     789\n",
            "2   Devils     2  2014     863\n",
            "3   Devils     3  2015     673\n",
            "4    Kings     3  2014     741\n",
            "5    kings     4  2015     812\n",
            "6    Kings     1  2016     756\n",
            "7    Kings     1  2017     788\n",
            "8   Riders     2  2016     694\n",
            "9   Royals     4  2014     701\n",
            "10  Royals     1  2015     804\n",
            "11  Riders     2  2017     690\n"
          ],
          "name": "stdout"
        }
      ]
    },
    {
      "cell_type": "code",
      "metadata": {
        "colab": {
          "base_uri": "https://localhost:8080/"
        },
        "id": "bJ9GvWiMDp4_",
        "outputId": "723ae4d5-1730-489b-e7ba-deb3b3822e93"
      },
      "source": [
        "# import the pandas library\n",
        "import pandas as pd\n",
        "\n",
        "ipl_data = {'Team': ['Riders', 'Riders', 'Devils', 'Devils', 'Kings',\n",
        "   'kings', 'Kings', 'Kings', 'Riders', 'Royals', 'Royals', 'Riders'],\n",
        "   'Rank': [1, 2, 2, 3, 3, 4 ,1, 1, 2, 4, 1, 2],\n",
        "   'Year': [2014,2015,2014,2015,2014,2015,2016,2017,2016,2014,2015,2017],\n",
        "   'Points':[876,789,863,673,741,812,756,788,694,701,804,690]}\n",
        "df = pd.DataFrame(ipl_data)\n",
        "\n",
        "print (df.groupby ('Team').groups)"
      ],
      "execution_count": 14,
      "outputs": [
        {
          "output_type": "stream",
          "text": [
            "{'Devils': [2, 3], 'Kings': [4, 6, 7], 'Riders': [0, 1, 8, 11], 'Royals': [9, 10], 'kings': [5]}\n"
          ],
          "name": "stdout"
        }
      ]
    },
    {
      "cell_type": "code",
      "metadata": {
        "colab": {
          "base_uri": "https://localhost:8080/"
        },
        "id": "DSZjjXQoDc2J",
        "outputId": "8265cde2-cac6-4c9b-c609-d1c433c5a17c"
      },
      "source": [
        "# import the pandas library\n",
        "import pandas as pd\n",
        "\n",
        "ipl_data = {'Team': ['Riders', 'Riders', 'Devils', 'Devils', 'Kings',\n",
        "   'kings', 'Kings', 'Kings', 'Riders', 'Royals', 'Royals', 'Riders'],\n",
        "   'Rank': [1, 2, 2, 3, 3, 4 ,1, 1, 2, 4, 1, 2],\n",
        "   'Year': [2014,2015,2014,2015,2014,2015,2016,2017,2016,2014,2015,2017],\n",
        "   'Points':[876,789,863,673,741,812,756,788,694,701,804,690]}\n",
        "df = pd.DataFrame(ipl_data)\n",
        "\n",
        "print (df.groupby (['Team','Year']).groups)"
      ],
      "execution_count": 15,
      "outputs": [
        {
          "output_type": "stream",
          "text": [
            "{('Devils', 2014): [2], ('Devils', 2015): [3], ('Kings', 2014): [4], ('Kings', 2016): [6], ('Kings', 2017): [7], ('Riders', 2014): [0], ('Riders', 2015): [1], ('Riders', 2016): [8], ('Riders', 2017): [11], ('Royals', 2014): [9], ('Royals', 2015): [10], ('kings', 2015): [5]}\n"
          ],
          "name": "stdout"
        }
      ]
    },
    {
      "cell_type": "code",
      "metadata": {
        "colab": {
          "base_uri": "https://localhost:8080/"
        },
        "id": "8B7CmsnLExmG",
        "outputId": "8def675a-843a-4216-ca2a-4bcdc4669868"
      },
      "source": [
        "# import the pandas library\n",
        "import pandas as pd\n",
        "\n",
        "ipl_data = {'Team': ['Riders', 'Riders', 'Devils', 'Devils', 'Kings',\n",
        "   'kings', 'Kings', 'Kings', 'Riders', 'Royals', 'Royals', 'Riders'],\n",
        "   'Rank': [1, 2, 2, 3, 3, 4 ,1, 1, 2, 4, 1, 2],\n",
        "   'Year': [2014,2015,2014,2015,2014,2015,2016,2017,2016,2014,2015,2017],\n",
        "   'Points':[876,789,863,673,741,812,756,788,694,701,804,690]}\n",
        "df = pd.DataFrame(ipl_data)\n",
        "\n",
        "grouped = df.groupby('Year')\n",
        "\n",
        "for name, group in grouped:\n",
        "  print(name)\n",
        "  print(group)"
      ],
      "execution_count": 16,
      "outputs": [
        {
          "output_type": "stream",
          "text": [
            "2014\n",
            "     Team  Rank  Year  Points\n",
            "0  Riders     1  2014     876\n",
            "2  Devils     2  2014     863\n",
            "4   Kings     3  2014     741\n",
            "9  Royals     4  2014     701\n",
            "2015\n",
            "      Team  Rank  Year  Points\n",
            "1   Riders     2  2015     789\n",
            "3   Devils     3  2015     673\n",
            "5    kings     4  2015     812\n",
            "10  Royals     1  2015     804\n",
            "2016\n",
            "     Team  Rank  Year  Points\n",
            "6   Kings     1  2016     756\n",
            "8  Riders     2  2016     694\n",
            "2017\n",
            "      Team  Rank  Year  Points\n",
            "7    Kings     1  2017     788\n",
            "11  Riders     2  2017     690\n"
          ],
          "name": "stdout"
        }
      ]
    },
    {
      "cell_type": "code",
      "metadata": {
        "colab": {
          "base_uri": "https://localhost:8080/"
        },
        "id": "qRvhN52ZFu93",
        "outputId": "c3776995-fc07-4cd3-df9f-ed285cfe86a6"
      },
      "source": [
        "# import the pandas library\n",
        "import pandas as pd\n",
        "\n",
        "ipl_data = {'Team': ['Riders', 'Riders', 'Devils', 'Devils', 'Kings',\n",
        "   'kings', 'Kings', 'Kings', 'Riders', 'Royals', 'Royals', 'Riders'],\n",
        "   'Rank': [1, 2, 2, 3, 3, 4 ,1, 1, 2, 4, 1, 2],\n",
        "   'Year': [2014,2015,2014,2015,2014,2015,2016,2017,2016,2014,2015,2017],\n",
        "   'Points':[876,789,863,673,741,812,756,788,694,701,804,690]}\n",
        "df = pd.DataFrame(ipl_data)\n",
        "\n",
        "grouped = df.groupby('Year')\n",
        "print (grouped.get_group(2014))"
      ],
      "execution_count": 18,
      "outputs": [
        {
          "output_type": "stream",
          "text": [
            "     Team  Rank  Year  Points\n",
            "0  Riders     1  2014     876\n",
            "2  Devils     2  2014     863\n",
            "4   Kings     3  2014     741\n",
            "9  Royals     4  2014     701\n"
          ],
          "name": "stdout"
        }
      ]
    },
    {
      "cell_type": "code",
      "metadata": {
        "colab": {
          "base_uri": "https://localhost:8080/"
        },
        "id": "p3YtH_veGURp",
        "outputId": "9c1fe547-2d30-40e3-9fed-6f3f79c2e2d9"
      },
      "source": [
        "# import the pandas library\n",
        "import pandas as pd\n",
        "import numpy as np\n",
        "\n",
        "ipl_data = {'Team': ['Riders', 'Riders', 'Devils', 'Devils', 'Kings',\n",
        "   'kings', 'Kings', 'Kings', 'Riders', 'Royals', 'Royals', 'Riders'],\n",
        "   'Rank': [1, 2, 2, 3, 3, 4 ,1, 1, 2, 4, 1, 2],\n",
        "   'Year': [2014,2015,2014,2015,2014,2015,2016,2017,2016,2014,2015,2017],\n",
        "   'Points':[876,789,863,673,741,812,756,788,694,701,804,690]}\n",
        "df = pd.DataFrame(ipl_data)\n",
        "\n",
        "grouped = df.groupby('Year')\n",
        "print (grouped['Points'].agg(np.mean))"
      ],
      "execution_count": 20,
      "outputs": [
        {
          "output_type": "stream",
          "text": [
            "Year\n",
            "2014    795.25\n",
            "2015    769.50\n",
            "2016    725.00\n",
            "2017    739.00\n",
            "Name: Points, dtype: float64\n"
          ],
          "name": "stdout"
        }
      ]
    },
    {
      "cell_type": "code",
      "metadata": {
        "colab": {
          "base_uri": "https://localhost:8080/"
        },
        "id": "ZOLYT-x9G0gZ",
        "outputId": "a58727b8-7891-45e7-dfd8-672eebbfe768"
      },
      "source": [
        "# import the pandas library\n",
        "import pandas as pd\n",
        "import numpy as np\n",
        "\n",
        "ipl_data = {'Team': ['Riders', 'Riders', 'Devils', 'Devils', 'Kings',\n",
        "   'kings', 'Kings', 'Kings', 'Riders', 'Royals', 'Royals', 'Riders'],\n",
        "   'Rank': [1, 2, 2, 3, 3, 4 ,1, 1, 2, 4, 1, 2],\n",
        "   'Year': [2014,2015,2014,2015,2014,2015,2016,2017,2016,2014,2015,2017],\n",
        "   'Points':[876,789,863,673,741,812,756,788,694,701,804,690]}\n",
        "df = pd.DataFrame(ipl_data)\n",
        "\n",
        "#Attribute Access in Python Pandas\n",
        "grouped = df.groupby('Team')\n",
        "print (grouped.agg(np.size))"
      ],
      "execution_count": 21,
      "outputs": [
        {
          "output_type": "stream",
          "text": [
            "        Rank  Year  Points\n",
            "Team                      \n",
            "Devils     2     2       2\n",
            "Kings      3     3       3\n",
            "Riders     4     4       4\n",
            "Royals     2     2       2\n",
            "kings      1     1       1\n"
          ],
          "name": "stdout"
        }
      ]
    },
    {
      "cell_type": "code",
      "metadata": {
        "colab": {
          "base_uri": "https://localhost:8080/"
        },
        "id": "Od7LoF96HlsT",
        "outputId": "745f37e3-1158-4b78-aff7-86125cb34983"
      },
      "source": [
        "# import the pandas library\n",
        "import pandas as pd\n",
        "import numpy as np\n",
        "\n",
        "ipl_data = {'Team': ['Riders', 'Riders', 'Devils', 'Devils', 'Kings',\n",
        "   'kings', 'Kings', 'Kings', 'Riders', 'Royals', 'Royals', 'Riders'],\n",
        "   'Rank': [1, 2, 2, 3, 3, 4 ,1, 1, 2, 4, 1, 2],\n",
        "   'Year': [2014,2015,2014,2015,2014,2015,2016,2017,2016,2014,2015,2017],\n",
        "   'Points':[876,789,863,673,741,812,756,788,694,701,804,690]}\n",
        "df = pd.DataFrame(ipl_data)\n",
        "\n",
        "grouped = df.groupby('Team')\n",
        "print (grouped['Points'].agg([np.sum, np.mean, np.std]))"
      ],
      "execution_count": 24,
      "outputs": [
        {
          "output_type": "stream",
          "text": [
            "         sum        mean         std\n",
            "Team                                \n",
            "Devils  1536  768.000000  134.350288\n",
            "Kings   2285  761.666667   24.006943\n",
            "Riders  3049  762.250000   88.567771\n",
            "Royals  1505  752.500000   72.831998\n",
            "kings    812  812.000000         NaN\n"
          ],
          "name": "stdout"
        }
      ]
    },
    {
      "cell_type": "code",
      "metadata": {
        "colab": {
          "base_uri": "https://localhost:8080/"
        },
        "id": "ZpbPo3VTIawg",
        "outputId": "3a40189d-6dbe-4915-cfab-87b2e3a804e7"
      },
      "source": [
        "# import the pandas library\n",
        "import pandas as pd\n",
        "import numpy as np\n",
        "\n",
        "ipl_data = {'Team': ['Riders', 'Riders', 'Devils', 'Devils', 'Kings',\n",
        "   'kings', 'Kings', 'Kings', 'Riders', 'Royals', 'Royals', 'Riders'],\n",
        "   'Rank': [1, 2, 2, 3, 3, 4 ,1, 1, 2, 4, 1, 2],\n",
        "   'Year': [2014,2015,2014,2015,2014,2015,2016,2017,2016,2014,2015,2017],\n",
        "   'Points':[876,789,863,673,741,812,756,788,694,701,804,690]}\n",
        "df = pd.DataFrame(ipl_data)\n",
        "\n",
        "grouped = df.groupby('Team')\n",
        "score = lambda x: (x -x.mean()) / x.std()*10\n",
        "print (grouped.transform(score))"
      ],
      "execution_count": 25,
      "outputs": [
        {
          "output_type": "stream",
          "text": [
            "         Rank       Year     Points\n",
            "0  -15.000000 -11.618950  12.843272\n",
            "1    5.000000  -3.872983   3.020286\n",
            "2   -7.071068  -7.071068   7.071068\n",
            "3    7.071068   7.071068  -7.071068\n",
            "4   11.547005 -10.910895  -8.608621\n",
            "5         NaN        NaN        NaN\n",
            "6   -5.773503   2.182179  -2.360428\n",
            "7   -5.773503   8.728716  10.969049\n",
            "8    5.000000   3.872983  -7.705963\n",
            "9    7.071068  -7.071068  -7.071068\n",
            "10  -7.071068   7.071068   7.071068\n",
            "11   5.000000  11.618950  -8.157595\n"
          ],
          "name": "stdout"
        }
      ]
    },
    {
      "cell_type": "code",
      "metadata": {
        "colab": {
          "base_uri": "https://localhost:8080/"
        },
        "id": "dBcgGeHWJFVM",
        "outputId": "2cc12e72-87c0-4524-a756-75a8010fca0b"
      },
      "source": [
        "# import the pandas library\n",
        "import pandas as pd\n",
        "import numpy as np\n",
        "\n",
        "ipl_data = {'Team': ['Riders', 'Riders', 'Devils', 'Devils', 'Kings',\n",
        "   'kings', 'Kings', 'Kings', 'Riders', 'Royals', 'Royals', 'Riders'],\n",
        "   'Rank': [1, 2, 2, 3, 3, 4 ,1, 1, 2, 4, 1, 2],\n",
        "   'Year': [2014,2015,2014,2015,2014,2015,2016,2017,2016,2014,2015,2017],\n",
        "   'Points':[876,789,863,673,741,812,756,788,694,701,804,690]}\n",
        "df = pd.DataFrame(ipl_data)\n",
        "\n",
        "print (df.groupby('Team').filter(lambda x: len(x) >=3))"
      ],
      "execution_count": 26,
      "outputs": [
        {
          "output_type": "stream",
          "text": [
            "      Team  Rank  Year  Points\n",
            "0   Riders     1  2014     876\n",
            "1   Riders     2  2015     789\n",
            "4    Kings     3  2014     741\n",
            "6    Kings     1  2016     756\n",
            "7    Kings     1  2017     788\n",
            "8   Riders     2  2016     694\n",
            "11  Riders     2  2017     690\n"
          ],
          "name": "stdout"
        }
      ]
    }
  ]
}