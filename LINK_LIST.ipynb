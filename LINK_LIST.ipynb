{
  "nbformat": 4,
  "nbformat_minor": 0,
  "metadata": {
    "colab": {
      "name": "LINK LIST.ipynb",
      "provenance": [],
      "authorship_tag": "ABX9TyNCfcL/MfLh0IqV5Un+YfYl",
      "include_colab_link": true
    },
    "kernelspec": {
      "name": "python3",
      "display_name": "Python 3"
    }
  },
  "cells": [
    {
      "cell_type": "markdown",
      "metadata": {
        "id": "view-in-github",
        "colab_type": "text"
      },
      "source": [
        "<a href=\"https://colab.research.google.com/github/Zuyyina79/Jobsheet-6-Daspro/blob/main/LINK_LIST.ipynb\" target=\"_parent\"><img src=\"https://colab.research.google.com/assets/colab-badge.svg\" alt=\"Open In Colab\"/></a>"
      ]
    },
    {
      "cell_type": "code",
      "metadata": {
        "colab": {
          "base_uri": "https://localhost:8080/"
        },
        "id": "JkGhcBqSScZG",
        "outputId": "d18fe54c-a86f-4527-80f5-36f66eef2e73"
      },
      "source": [
        "def multiply(x):\n",
        "  return (x*x)\n",
        "def add(x):\n",
        "  return (x+x)\n",
        "\n",
        "funcs = [multiply, add]\n",
        "for i in range (5):\n",
        "  value = list(map(lambda x: x(i), funcs))\n",
        "  print(value)"
      ],
      "execution_count": 1,
      "outputs": [
        {
          "output_type": "stream",
          "text": [
            "[0, 0]\n",
            "[1, 2]\n",
            "[4, 4]\n",
            "[9, 6]\n",
            "[16, 8]\n"
          ],
          "name": "stdout"
        }
      ]
    }
  ]
}