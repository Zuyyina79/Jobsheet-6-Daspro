{
  "nbformat": 4,
  "nbformat_minor": 0,
  "metadata": {
    "colab": {
      "name": "LAMBDA.ipynb",
      "provenance": [],
      "authorship_tag": "ABX9TyMAirAfgNE4udPh90yFyBfS",
      "include_colab_link": true
    },
    "kernelspec": {
      "name": "python3",
      "display_name": "Python 3"
    }
  },
  "cells": [
    {
      "cell_type": "markdown",
      "metadata": {
        "id": "view-in-github",
        "colab_type": "text"
      },
      "source": [
        "<a href=\"https://colab.research.google.com/github/Zuyyina79/Jobsheet-6-Daspro/blob/main/LAMBDA.ipynb\" target=\"_parent\"><img src=\"https://colab.research.google.com/assets/colab-badge.svg\" alt=\"Open In Colab\"/></a>"
      ]
    },
    {
      "cell_type": "code",
      "metadata": {
        "colab": {
          "base_uri": "https://localhost:8080/"
        },
        "id": "TzEVxgIrUemQ",
        "outputId": "2f5f43a6-e425-48ba-aca9-6aa16dbf811b"
      },
      "source": [
        "# Python program showing a use\n",
        "# lambda function\n",
        "\n",
        "# performing a addition of three number\n",
        "x1 = (lambda x, y, z: (x+y)*z)(1, 2, 3)\n",
        "print(x1)\n",
        "\n",
        "# function using a lambda function\n",
        "x2 = (lambda x, y, z: (x+y)if(z==0) else(x*y))(1, 2, 3)\n",
        "print(x2)"
      ],
      "execution_count": 3,
      "outputs": [
        {
          "output_type": "stream",
          "text": [
            "9\n",
            "2\n"
          ],
          "name": "stdout"
        }
      ]
    },
    {
      "cell_type": "code",
      "metadata": {
        "colab": {
          "base_uri": "https://localhost:8080/"
        },
        "id": "ztMo2M1AUhnB",
        "outputId": "de3927a8-f156-4213-dad3-51b6e4a5f2e4"
      },
      "source": [
        "# Python code to illustrate cube of a number\n",
        "# showing difference between def() and lambda().\n",
        "def cube(y):\n",
        "    return y*y*y;\n",
        " \n",
        "g = lambda x: x*x*x\n",
        "print(g(7))\n",
        "\n",
        "print(cube(5))"
      ],
      "execution_count": 2,
      "outputs": [
        {
          "output_type": "stream",
          "text": [
            "343\n",
            "125\n"
          ],
          "name": "stdout"
        }
      ]
    },
    {
      "cell_type": "code",
      "metadata": {
        "colab": {
          "base_uri": "https://localhost:8080/"
        },
        "id": "d7Md_BR8bFRy",
        "outputId": "d8e087c6-d923-49a3-9813-267bf4015f23"
      },
      "source": [
        "# Python program performing\n",
        "# operation using def()\n",
        "def fun(x, y, z):\n",
        "  return x*y*z\n",
        "a=1\n",
        "b=2\n",
        "c=3\n",
        "\n",
        "# logical jump\n",
        "d = fun(a, b, c)\n",
        "print(d)\n",
        "\n",
        "# Python program performing\n",
        "# operation using lambda\n",
        "d = (lambda x, y, z: x*y+z)(1, 2, 3)\n",
        "print(d)"
      ],
      "execution_count": 4,
      "outputs": [
        {
          "output_type": "stream",
          "text": [
            "6\n",
            "5\n"
          ],
          "name": "stdout"
        }
      ]
    },
    {
      "cell_type": "code",
      "metadata": {
        "colab": {
          "base_uri": "https://localhost:8080/"
        },
        "id": "8Hc-dxXOpP0b",
        "outputId": "3ca211df-4b28-46dc-fe66-1ac9574d0f4f"
      },
      "source": [
        "def func(x):\n",
        "  if x == 1:\n",
        "    return \"one\"\n",
        "  elif x == 2:\n",
        "    return \"two\"\n",
        "  elif x == 3:\n",
        "    return \"three\"\n",
        "  else:\n",
        "    return \"ten\"\n",
        "num = func(3)\n",
        "print(num)"
      ],
      "execution_count": 6,
      "outputs": [
        {
          "output_type": "stream",
          "text": [
            "three\n"
          ],
          "name": "stdout"
        }
      ]
    },
    {
      "cell_type": "code",
      "metadata": {
        "colab": {
          "base_uri": "https://localhost:8080/"
        },
        "id": "BxwFKwqjvBjR",
        "outputId": "3228e560-c576-415b-8f80-eb4d5b0cffcd"
      },
      "source": [
        "# Python program showing use\n",
        "# of lambda function\n",
        "num = (lambda x: \"one\" if x == 1 else(\"two\" if x == 2\n",
        "                       else (\"three\" if x == 3 else \"ten\")))(3)\n",
        "print(num)"
      ],
      "execution_count": 11,
      "outputs": [
        {
          "output_type": "stream",
          "text": [
            "three\n"
          ],
          "name": "stdout"
        }
      ]
    },
    {
      "cell_type": "code",
      "metadata": {
        "colab": {
          "base_uri": "https://localhost:8080/"
        },
        "id": "oxvjB6w6CD5r",
        "outputId": "9f88f0ab-2d05-40a0-89d3-42217dbd8c5b"
      },
      "source": [
        "# Python code to illustrate\n",
        "# filter() with lambda()\n",
        "li = [5, 7, 22, 97, 54, 62, 77, 23, 73, 61]\n",
        "final_list = list(filter(lambda x: (x%2 !=0), li))\n",
        "print(final_list)"
      ],
      "execution_count": 12,
      "outputs": [
        {
          "output_type": "stream",
          "text": [
            "[5, 7, 97, 77, 23, 73, 61]\n"
          ],
          "name": "stdout"
        }
      ]
    },
    {
      "cell_type": "code",
      "metadata": {
        "colab": {
          "base_uri": "https://localhost:8080/"
        },
        "id": "OZGA4byaCuHX",
        "outputId": "a0460546-0068-436f-b7c6-12c2d80cc37b"
      },
      "source": [
        "# Python code to illustrate\n",
        "# map() with lambda()\n",
        "# to get double of a list\n",
        "li = [5, 7, 22, 97, 54, 62, 77, 23, 73, 61]\n",
        "final_list = list(map(lambda x: x*2, li))\n",
        "print(final_list)"
      ],
      "execution_count": 13,
      "outputs": [
        {
          "output_type": "stream",
          "text": [
            "[10, 14, 44, 194, 108, 124, 154, 46, 146, 122]\n"
          ],
          "name": "stdout"
        }
      ]
    },
    {
      "cell_type": "code",
      "metadata": {
        "colab": {
          "base_uri": "https://localhost:8080/"
        },
        "id": "iGEazT8jDkZz",
        "outputId": "695bc9c1-af83-40b6-8cb3-a7e8b460723a"
      },
      "source": [
        "# Python code to illustrate\n",
        "# reduce() with lambda()\n",
        "# to get sum of a list\n",
        "from functools import reduce\n",
        "li = [5, 8, 10, 20, 50, 100]\n",
        "sum = reduce((lambda x, y: x+y), li)\n",
        "print(sum)"
      ],
      "execution_count": 14,
      "outputs": [
        {
          "output_type": "stream",
          "text": [
            "193\n"
          ],
          "name": "stdout"
        }
      ]
    }
  ]
}