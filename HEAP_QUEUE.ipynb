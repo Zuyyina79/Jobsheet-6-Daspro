{
  "nbformat": 4,
  "nbformat_minor": 0,
  "metadata": {
    "colab": {
      "name": "HEAP QUEUE.ipynb",
      "provenance": [],
      "authorship_tag": "ABX9TyNJ7AUx3Mrj86E7B2hSR4we",
      "include_colab_link": true
    },
    "kernelspec": {
      "name": "python3",
      "display_name": "Python 3"
    }
  },
  "cells": [
    {
      "cell_type": "markdown",
      "metadata": {
        "id": "view-in-github",
        "colab_type": "text"
      },
      "source": [
        "<a href=\"https://colab.research.google.com/github/Zuyyina79/Jobsheet-6-Daspro/blob/main/HEAP_QUEUE.ipynb\" target=\"_parent\"><img src=\"https://colab.research.google.com/assets/colab-badge.svg\" alt=\"Open In Colab\"/></a>"
      ]
    },
    {
      "cell_type": "code",
      "metadata": {
        "id": "JTChso2qLGT4",
        "colab": {
          "base_uri": "https://localhost:8080/"
        },
        "outputId": "f7d6d5e1-b51a-4721-ba67-9128d2d150e3"
      },
      "source": [
        "# importing \"heapq\" to convert list into heap queue\n",
        "import heapq\n",
        "\n",
        "# initializing list\n",
        "li = [5, 7, 9, 1, 3]\n",
        "\n",
        "# using heapify to convert list into heap\n",
        "heapq.heapify(li)\n",
        "\n",
        "# printing created heap\n",
        "print(\"The crated heap is : \", end=\"\")\n",
        "print(list(li))\n",
        "\n",
        "# using heappush() to push elements into heap\n",
        "# pushes 4\n",
        "heapq.heappush(li,4)\n",
        "\n",
        "# printing modified heap\n",
        "print(\"The modified heap after push is : \", end=\"\")\n",
        "print(list(li))\n",
        "\n",
        "#using heappop() to pop smallest element \n",
        "print(\"The popped and smallest element is : \", end=\"\")\n",
        "print(heapq.heappop(li))"
      ],
      "execution_count": 2,
      "outputs": [
        {
          "output_type": "stream",
          "text": [
            "The crated heap is : [1, 3, 9, 7, 5]\n",
            "The modified heap after push is : [1, 3, 4, 7, 5, 9]\n",
            "The popped and smallest element is : 1\n"
          ],
          "name": "stdout"
        }
      ]
    },
    {
      "cell_type": "code",
      "metadata": {
        "colab": {
          "base_uri": "https://localhost:8080/"
        },
        "id": "Ra_2wpUTXh42",
        "outputId": "c46dda88-bd69-4e08-91ed-e89109fe36f3"
      },
      "source": [
        "# importing \"heapq\" to convert list into heap queue\n",
        "import heapq\n",
        "\n",
        "# initializing list1\n",
        "li1 = [5, 7, 9, 4, 3]\n",
        "\n",
        "# initializing list2\n",
        "li2 = [5, 7, 9, 4, 3]\n",
        "\n",
        "# using heapify to convert list into heap\n",
        "heapq.heapify(li1)\n",
        "heapq.heapify(li2)\n",
        "\n",
        "# using heappushpop() to push and pop items simultaneously\n",
        "# pops 2\n",
        "print(\"The popped item using heappushpop() is : \", end=\"\")\n",
        "print(heapq.heappushpop(li1, 2))\n",
        "\n",
        "# using heappushpop() to push and pop items simultaneously\n",
        "# pops 3\n",
        "print(\"The popped item using heapreplace() is : \", end=\"\")\n",
        "print(heapq.heappushpop(li2, 2))"
      ],
      "execution_count": 4,
      "outputs": [
        {
          "output_type": "stream",
          "text": [
            "The popped item using heappushpop() is : 2\n",
            "The popped item using heapreplace() is : 2\n"
          ],
          "name": "stdout"
        }
      ]
    },
    {
      "cell_type": "code",
      "metadata": {
        "colab": {
          "base_uri": "https://localhost:8080/"
        },
        "id": "Gd3K7srtsvcY",
        "outputId": "b7104a02-b8b7-42e9-b9ee-d3d95ca7b095"
      },
      "source": [
        "# importing \"heapq\" to convert list into heap queue\n",
        "import heapq\n",
        "\n",
        "# initializing list\n",
        "li1 = [6, 7, 9, 4, 3, 5, 8, 10, 1]\n",
        "\n",
        "# using heapify to convert list into heap\n",
        "heapq.heapify(li1)\n",
        "\n",
        "# using nlargest to print 3 largest numbers\n",
        "# pirint 10, 9, and 8\n",
        "print(\"The 3 largest numbers in list are : \", end=\"\")\n",
        "print(heapq.nlargest(3, li1))\n",
        "\n",
        "# using nsmallest to print 3 smallest numbers\n",
        "# pirint 1, 3, and 4\n",
        "print(\"The 3 smallest numbers in list are : \", end=\"\")\n",
        "print(heapq.nsmallest(3, li1))"
      ],
      "execution_count": 6,
      "outputs": [
        {
          "output_type": "stream",
          "text": [
            "The 3 largest numbers in list are : [10, 9, 8]\n",
            "The 3 smallest numbers in list are : [1, 3, 4]\n"
          ],
          "name": "stdout"
        }
      ]
    }
  ]
}