{
  "nbformat": 4,
  "nbformat_minor": 0,
  "metadata": {
    "colab": {
      "name": "FILTER.ipynb",
      "provenance": [],
      "authorship_tag": "ABX9TyOhpmahOMVk4KgniVcYwepk",
      "include_colab_link": true
    },
    "kernelspec": {
      "name": "python3",
      "display_name": "Python 3"
    }
  },
  "cells": [
    {
      "cell_type": "markdown",
      "metadata": {
        "id": "view-in-github",
        "colab_type": "text"
      },
      "source": [
        "<a href=\"https://colab.research.google.com/github/Zuyyina79/Jobsheet-6-Daspro/blob/main/FILTER.ipynb\" target=\"_parent\"><img src=\"https://colab.research.google.com/assets/colab-badge.svg\" alt=\"Open In Colab\"/></a>"
      ]
    },
    {
      "cell_type": "code",
      "metadata": {
        "colab": {
          "base_uri": "https://localhost:8080/"
        },
        "id": "B7HXiRYvTcbV",
        "outputId": "bf030291-a6bc-40cd-d731-9a8a48564e63"
      },
      "source": [
        "# List alfabet\n",
        "alfabet = ['a', 'b', 'c', 'e', 'i', 'k', 'o', 'z']\n",
        "# Fungsi penyaring huruf vocal\n",
        "def filter_vocal(alfabet):\n",
        "  vocal = ['a', 'i', 'u', 'e', 'o']\n",
        "  if alfabet in vocal:\n",
        "    return True\n",
        "  else:\n",
        "    return False\n",
        "\n",
        "vocal_terfilter = filter(filter_vocal, alfabet)\n",
        "print('Huruf vocal yang tersaring adalah: ')\n",
        "for vocal in vocal_terfilter:\n",
        "  print(vocal)"
      ],
      "execution_count": null,
      "outputs": [
        {
          "output_type": "stream",
          "text": [
            "Huruf vocal yang tersaring adalah: \n",
            "a\n",
            "e\n",
            "i\n",
            "o\n"
          ],
          "name": "stdout"
        }
      ]
    }
  ]
}